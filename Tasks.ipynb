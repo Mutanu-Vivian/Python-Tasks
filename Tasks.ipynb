{
 "cells": [
  {
   "cell_type": "code",
   "execution_count": 8,
   "id": "0cbad97d-6355-426a-969c-d66bda08e2bf",
   "metadata": {},
   "outputs": [
    {
     "name": "stdout",
     "output_type": "stream",
     "text": [
      "True\n",
      "False\n"
     ]
    }
   ],
   "source": [
    "#Checking whether a string is a Palindrome\n",
    "\n",
    "def is_palindrome(s):\n",
    "    #Convert string to lower case and remove spaces\n",
    "    s=s.lower().replace(\" \",\"\")\n",
    "    #check if string is equal to its reverse\n",
    "    return s == s[::-1]\n",
    "\n",
    "#Test the string\n",
    "print(is_palindrome(\"No Lemon no melon\")) #True\n",
    "print(is_palindrome(\"Hello\")) #False"
   ]
  },
  {
   "cell_type": "code",
   "execution_count": null,
   "id": "03e801cb-7b10-4a9b-a72a-9ba7c7b87b1d",
   "metadata": {},
   "outputs": [],
   "source": [
    "# Concept of List Comprehension in Python\n"
   ]
  },
  {
   "cell_type": "code",
   "execution_count": null,
   "id": "e6e27e0a-7ac4-44cc-a810-ad689bd4a6d4",
   "metadata": {},
   "outputs": [],
   "source": []
  }
 ],
 "metadata": {
  "kernelspec": {
   "display_name": "Python 3 (ipykernel)",
   "language": "python",
   "name": "python3"
  },
  "language_info": {
   "codemirror_mode": {
    "name": "ipython",
    "version": 3
   },
   "file_extension": ".py",
   "mimetype": "text/x-python",
   "name": "python",
   "nbconvert_exporter": "python",
   "pygments_lexer": "ipython3",
   "version": "3.12.4"
  }
 },
 "nbformat": 4,
 "nbformat_minor": 5
}
