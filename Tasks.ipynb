{
 "cells": [
  {
   "cell_type": "code",
   "execution_count": 8,
   "id": "0cbad97d-6355-426a-969c-d66bda08e2bf",
   "metadata": {},
   "outputs": [
    {
     "name": "stdout",
     "output_type": "stream",
     "text": [
      "\"No lemon no melon\" is a palindrome: True\n",
      "\"Hello\" is a palindrome: False\n"
     ]
    }
   ],
   "source": [
    "#Checking whether a string is a Palindrome in a Stack\n",
    "\n",
    "def is_palindrome(s):\n",
    "    #Convert string to lower case and remove spaces\n",
    "    s=s.lower().replace(\" \",\"\")\n",
    "    #check if string is equal to its reverse\n",
    "    return s == s[::-1]\n",
    "    \n",
    "    # Initialize an empty stack\n",
    "    stack = []\n",
    "\n",
    "    # Push all characters of the string onto the stack\n",
    "    for char in s:\n",
    "        stack.append(char)\n",
    "\n",
    "    # Pop characters from the stack and compare with the original string\n",
    "    for char in s:\n",
    "        if char != stack.pop():\n",
    "            return False\n",
    "\n",
    "    return True\n",
    "\n",
    "# Test the function\n",
    "test_string_1 = \"No lemon no melon\"\n",
    "test_string_2 = \"Hello\"\n",
    "\n",
    "print(f'\"{test_string_1}\" is a palindrome: {is_palindrome(test_string_1)}')  # True\n",
    "print(f'\"{test_string_2}\" is a palindrome: {is_palindrome(test_string_2)}')  # False\n"
   ]
  },
  {
   "cell_type": "code",
   "execution_count": 24,
   "id": "f4b00212-31b3-4c84-88f9-0f6797bc19b6",
   "metadata": {},
   "outputs": [
    {
     "name": "stdout",
     "output_type": "stream",
     "text": [
      "[1, 4, 9, 16, 25, 36, 49, 64, 81, 100]\n"
     ]
    }
   ],
   "source": [
    "#Concept of List Comprehension\n",
    "#1. List of squares of numbers 1 to 10\n",
    "squares = [x**2 for x in range(1, 11)]\n",
    "print(squares)"
   ]
  },
  {
   "cell_type": "code",
   "execution_count": 58,
   "id": "e6e27e0a-7ac4-44cc-a810-ad689bd4a6d4",
   "metadata": {},
   "outputs": [
    {
     "name": "stdout",
     "output_type": "stream",
     "text": [
      "[2, 4, 6, 8, 10, 12, 14, 16, 18, 20]\n"
     ]
    }
   ],
   "source": [
    "#2. List of even numbers from 1 to 20\n",
    "even = [x for x in range(1, 21) if x % 2 == 0]\n",
    "print(even)"
   ]
  },
  {
   "cell_type": "code",
   "execution_count": 18,
   "id": "fd932d97-249c-4433-8ed4-6344473c3cdb",
   "metadata": {},
   "outputs": [
    {
     "name": "stdout",
     "output_type": "stream",
     "text": [
      "[1, 3, 5, 7, 9, 11, 13, 15, 17, 19]\n"
     ]
    }
   ],
   "source": [
    "#3. List of odd numbers from 1 to 20\n",
    "odd_numbers = [x for x in range(1, 21) if x % 2 != 0]\n",
    "print(odd_numbers)"
   ]
  },
  {
   "cell_type": "code",
   "execution_count": 20,
   "id": "250e7d27-258c-44df-96dd-d926561666fa",
   "metadata": {},
   "outputs": [
    {
     "name": "stdout",
     "output_type": "stream",
     "text": [
      "['b', 'p', 'r']\n"
     ]
    }
   ],
   "source": [
    "#List of first letter of each word in the list\n",
    "words=[\"books\", \"pupils\", \"rulers\"]\n",
    "first_letters = [word[0] for word in words]\n",
    "print(first_letters)"
   ]
  },
  {
   "cell_type": "code",
   "execution_count": 22,
   "id": "7b02b9f0-3a24-4563-a164-72802e865d98",
   "metadata": {},
   "outputs": [
    {
     "name": "stdout",
     "output_type": "stream",
     "text": [
      "['k', 'l', 'r']\n"
     ]
    }
   ],
   "source": [
    "#List of last letter of each word in the list\n",
    "words=[\"book\", \"pupil\", \"ruler\"]\n",
    "last_letters = [word[-1] for word in words]\n",
    "print(last_letters)"
   ]
  },
  {
   "cell_type": "code",
   "execution_count": 32,
   "id": "c22df1df-8ee3-41e6-b9fa-ab65fc162730",
   "metadata": {},
   "outputs": [
    {
     "name": "stdout",
     "output_type": "stream",
     "text": [
      "[4, 5, 6, 7, 8, 9, 10, 11, 12]\n"
     ]
    }
   ],
   "source": [
    "#List of lists (Flatten a 2D list)\n",
    "matrix = [[4, 5, 6], [7, 8, 9], [10,11,12]]\n",
    "flat_list = [num for row in matrix for num in row]\n",
    "print(flat_list)"
   ]
  },
  {
   "cell_type": "code",
   "execution_count": 34,
   "id": "06324ec5-fc3b-450a-90fa-e7c8f77449fc",
   "metadata": {},
   "outputs": [
    {
     "name": "stdout",
     "output_type": "stream",
     "text": [
      "[5, 6, 6]\n"
     ]
    }
   ],
   "source": [
    "#List of lengths of each word in a list\n",
    "words=[\"books\", \"pupils\", \"rulers\"]\n",
    "lengths = [len(word) for word in words]\n",
    "print(lengths)"
   ]
  },
  {
   "cell_type": "code",
   "execution_count": 36,
   "id": "10267e0b-c1e2-4588-885b-4730ec728ddd",
   "metadata": {},
   "outputs": [
    {
     "name": "stdout",
     "output_type": "stream",
     "text": [
      "[10, 20, 30, 40, 50]\n"
     ]
    }
   ],
   "source": [
    "#List of numbers from 1 to 50 that are divisible by both 2 and 5\n",
    "divisible_by_2_and_5 = [x for x in range(1, 51) if x % 2 == 0 and x % 5 == 0]\n",
    "print(divisible_by_2_and_5)"
   ]
  },
  {
   "cell_type": "code",
   "execution_count": 44,
   "id": "1f22c89f-6da5-4f36-9b37-cf8d99f10d20",
   "metadata": {},
   "outputs": [
    {
     "name": "stdout",
     "output_type": "stream",
     "text": [
      "[1, -2, 3, -4, 5, -6]\n"
     ]
    }
   ],
   "source": [
    "#Replacing even numbers with their negative\n",
    "numbers = [1, 2, 3, 4, 5,6]\n",
    "negated_evens = [-x if x % 2 == 0 else x for x in numbers]\n",
    "print(negated_evens)"
   ]
  },
  {
   "cell_type": "code",
   "execution_count": 50,
   "id": "0396371c-82a3-40ba-a19e-4f3f915c5981",
   "metadata": {},
   "outputs": [
    {
     "name": "stdout",
     "output_type": "stream",
     "text": [
      "[('no', 'lemon'), ('lemon', 'no'), ('no', 'melon')]\n"
     ]
    }
   ],
   "source": [
    "#A list of bigrams made from a string\n",
    "def generate_bigrams(s):\n",
    "    # Split the string into words\n",
    "    words = s.split()\n",
    "    \n",
    "    # Generate bigrams using a list comprehension\n",
    "    bigrams = [(words[i], words[i+1]) for i in range(len(words)-1)]\n",
    "    \n",
    "    return bigrams\n",
    "\n",
    "# Test the function\n",
    "test_string = \"no lemon no melon\"\n",
    "result = generate_bigrams(test_string)\n",
    "print(result)"
   ]
  },
  {
   "cell_type": "code",
   "execution_count": 56,
   "id": "8fea0152-3269-4def-9084-c0163d51c131",
   "metadata": {},
   "outputs": [
    {
     "name": "stdout",
     "output_type": "stream",
     "text": [
      "d\n"
     ]
    }
   ],
   "source": [
    "def closest_key(input_dict, value):\n",
    "    closest_key = None  # This will store the key with the closest occurrence\n",
    "    min_index = None  # This will store the smallest index where we find the value\n",
    "\n",
    "    for key in input_dict:\n",
    "        letter_list = input_dict[key]  # Get the list of letters for the current key\n",
    "\n",
    "        if value in letter_list:  # Check if the value is in the list\n",
    "            index = letter_list.index(value)  # Find the index of the value\n",
    "\n",
    "            # If it's the first time we're finding the value, or if it's closer than before\n",
    "            if min_index is None or index < min_index:\n",
    "                min_index = index  # Update min_index\n",
    "                closest_key = key  # Update closest_key to the current key\n",
    "\n",
    "    return closest_key\n",
    "\n",
    "# Example usage\n",
    "my_dict = {\n",
    "    'a': ['a', 'm', 'c'],\n",
    "    'b': ['d', 'e', 'm', 'p'],\n",
    "    'c': ['b', 'o', 'x'],\n",
    "    'd': ['m', 'n', 'q']\n",
    "}\n",
    "\n",
    "result = closest_key(my_dict, 'm')\n",
    "print(result)\n"
   ]
  },
  {
   "cell_type": "code",
   "execution_count": null,
   "id": "4b343764-3c86-4ce9-92e3-5ee2c8db9d8b",
   "metadata": {},
   "outputs": [],
   "source": []
  }
 ],
 "metadata": {
  "kernelspec": {
   "display_name": "Python 3 (ipykernel)",
   "language": "python",
   "name": "python3"
  },
  "language_info": {
   "codemirror_mode": {
    "name": "ipython",
    "version": 3
   },
   "file_extension": ".py",
   "mimetype": "text/x-python",
   "name": "python",
   "nbconvert_exporter": "python",
   "pygments_lexer": "ipython3",
   "version": "3.12.4"
  }
 },
 "nbformat": 4,
 "nbformat_minor": 5
}
